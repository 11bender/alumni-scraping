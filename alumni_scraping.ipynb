{
  "nbformat": 4,
  "nbformat_minor": 0,
  "metadata": {
    "kernelspec": {
      "display_name": "Python 3",
      "language": "python",
      "name": "python3"
    },
    "language_info": {
      "codemirror_mode": {
        "name": "ipython",
        "version": 3
      },
      "file_extension": ".py",
      "mimetype": "text/x-python",
      "name": "python",
      "nbconvert_exporter": "python",
      "pygments_lexer": "ipython3",
      "version": "3.8.5"
    },
    "colab": {
      "name": "alumni_scraping.ipynb",
      "provenance": [],
      "collapsed_sections": [],
      "include_colab_link": true
    }
  },
  "cells": [
    {
      "cell_type": "markdown",
      "metadata": {
        "id": "view-in-github",
        "colab_type": "text"
      },
      "source": [
        "<a href=\"https://colab.research.google.com/github/11bender/alumni-scraping/blob/main/alumni_scraping.ipynb\" target=\"_parent\"><img src=\"https://colab.research.google.com/assets/colab-badge.svg\" alt=\"Open In Colab\"/></a>"
      ]
    },
    {
      "cell_type": "markdown",
      "metadata": {
        "id": "e4o5x1rcDZTN"
      },
      "source": [
        "# **Scraping my school's alumni Data from LinkedIn using a bot 🤖**"
      ]
    },
    {
      "cell_type": "markdown",
      "metadata": {
        "id": "ey244w-0IGEF"
      },
      "source": [
        "Install, import and start a browser"
      ]
    },
    {
      "cell_type": "code",
      "metadata": {
        "id": "ar8V45wcM1UC"
      },
      "source": [
        "!pip install selenium"
      ],
      "execution_count": null,
      "outputs": []
    },
    {
      "cell_type": "code",
      "metadata": {
        "id": "o2HkMHTNM1UO"
      },
      "source": [
        "!pip install beautifulsoup4"
      ],
      "execution_count": null,
      "outputs": []
    },
    {
      "cell_type": "markdown",
      "metadata": {
        "id": "3njnmPBgSKIg"
      },
      "source": [
        "Download Google Chrome Drive : https://sites.google.com/a/chromium.org/chromedriver/"
      ]
    },
    {
      "cell_type": "code",
      "metadata": {
        "id": "UQC8uAXpM1UO"
      },
      "source": [
        "import os, random, sys, time \n",
        "from selenium import webdriver\n",
        "from bs4 import BeautifulSoup\n",
        "import pandas as pd\n",
        "import numpy as np #who knows"
      ],
      "execution_count": 3,
      "outputs": []
    },
    {
      "cell_type": "code",
      "metadata": {
        "id": "0wNcDYdXM1UQ"
      },
      "source": [
        "browser = webdriver.Chrome('/Users/moncefbender/Desktop/enisasTV/MAP/driver/chromedriver')"
      ],
      "execution_count": 5,
      "outputs": []
    },
    {
      "cell_type": "code",
      "metadata": {
        "id": "j0vzjIqHM1UQ"
      },
      "source": [
        "browser.get(\"https://www.linkedin.com/login/\")"
      ],
      "execution_count": 6,
      "outputs": []
    },
    {
      "cell_type": "markdown",
      "metadata": {
        "id": "ohCMsepaLXvM"
      },
      "source": [
        "Create a txt file and sign in to your account (better if it's a premium account)"
      ]
    },
    {
      "cell_type": "code",
      "metadata": {
        "id": "vRkPx_FRM1UR"
      },
      "source": [
        "file = open(\"/Users/moncefbender/Desktop/enisasTV/MAP/config.txt\")\n",
        "line = file.readlines()\n",
        "username = line[0]\n",
        "password = line[1]"
      ],
      "execution_count": 8,
      "outputs": []
    },
    {
      "cell_type": "code",
      "metadata": {
        "id": "opbEtxugM1US"
      },
      "source": [
        "elementID = browser.find_element_by_id('username')\n",
        "elementID.send_keys(username)\n",
        "elementID = browser.find_element_by_id('password')\n",
        "elementID.send_keys(password)\n",
        "elementID.submit()"
      ],
      "execution_count": 9,
      "outputs": []
    },
    {
      "cell_type": "markdown",
      "metadata": {
        "id": "TceiqSbHMP2x"
      },
      "source": [
        "Go to your school page, alumni section\n"
      ]
    },
    {
      "cell_type": "code",
      "metadata": {
        "id": "-REs8SYWcExg"
      },
      "source": [
        "browser.get('https://www.linkedin.com/school/ecole-nationale-superieure-d-informatique-et-d-analyse-des-systemes/people/')"
      ],
      "execution_count": 10,
      "outputs": []
    },
    {
      "cell_type": "markdown",
      "metadata": {
        "id": "j4DWZ5JyMUG1"
      },
      "source": [
        "Let's scroll all the page"
      ]
    },
    {
      "cell_type": "code",
      "metadata": {
        "id": "OOpuRUM3szPi"
      },
      "source": [
        "rep = 50 #determine the rep enough to scroll all the page\n",
        "last_height = browser.execute_script(\"return document.body.scrollHeight\")\n",
        "\n",
        "for i in range(rep):\n",
        "  browser.execute_script('window.scrollTo(0, document.body.scrollHeight);')\n",
        "  time.sleep(5)\n",
        "  new_height = browser.execute_script(\"return document.body.scrollHeight\")\n",
        "  if new_height == last_height:\n",
        "    break\n",
        "  new_height = last_height"
      ],
      "execution_count": null,
      "outputs": []
    },
    {
      "cell_type": "markdown",
      "metadata": {
        "id": "37LxGbQGMlba"
      },
      "source": [
        "It's soup time"
      ]
    },
    {
      "cell_type": "code",
      "metadata": {
        "id": "gAVjaPVlqU98"
      },
      "source": [
        "src = browser.page_source\n",
        "soup = BeautifulSoup(src, 'lxml')"
      ],
      "execution_count": null,
      "outputs": []
    },
    {
      "cell_type": "markdown",
      "metadata": {
        "id": "MVFHKuMEMkxt"
      },
      "source": [
        "Scrapping profilesID"
      ]
    },
    {
      "cell_type": "code",
      "metadata": {
        "id": "bbt9PBFenA1t"
      },
      "source": [
        "pav = soup.find('div', {'class' : 'artdeco-card pv5 pl5 pr1 mt4'})\n",
        "all_links = pav.find_all('a', {'class' : 'ember-view link-without-visited-state'})"
      ],
      "execution_count": null,
      "outputs": []
    },
    {
      "cell_type": "code",
      "metadata": {
        "id": "rH3-rYSmpWaY"
      },
      "source": [
        "profilesID = []\n",
        "for link in all_links:\n",
        "  profilesID.append(link.get('href'))"
      ],
      "execution_count": null,
      "outputs": []
    },
    {
      "cell_type": "code",
      "metadata": {
        "colab": {
          "base_uri": "https://localhost:8080/"
        },
        "id": "qn_3slj3Gsbh",
        "outputId": "18f3649a-991a-4d6d-9cfa-cbb863605d65"
      },
      "source": [
        "profilesID"
      ],
      "execution_count": null,
      "outputs": [
        {
          "output_type": "execute_result",
          "data": {
            "text/plain": [
              "['/in/ziyad-harroud-7579831b4/',\n",
              " '/in/yousra-berdai/',\n",
              " '/in/hamza-ezzaoui-rahali-521730190/',\n",
              " '/in/reda-menaoui/',\n",
              " '/in/yassine-rachidi-182502175/',\n",
              " '/in/anas-saaoudi-b49676181/',\n",
              " '/in/salah-eddine-el-baghdadi/',\n",
              " '/in/aya-ouzzine-5770241a5/',\n",
              " '/in/leilaerrami/',\n",
              " '/in/mohamed-jarni/',\n",
              " '/in/reda-djohar-778153aa/',\n",
              " '/in/elhadri-ranya/']"
            ]
          },
          "metadata": {
            "tags": []
          },
          "execution_count": 41
        }
      ]
    },
    {
      "cell_type": "markdown",
      "metadata": {
        "id": "6d1nNSzYHNc0"
      },
      "source": [
        "Scraping names, companies, locations of each profile, (you can define what to scrape by changing id/class)\n",
        "\n"
      ]
    },
    {
      "cell_type": "code",
      "metadata": {
        "id": "lm44eK8krBzM"
      },
      "source": [
        "names = []\n",
        "companies = []\n",
        "locs = []\n",
        "\n",
        "for profileID in profilesID:\n",
        "  fulllink = 'https://www.linkedin.com' + profileID\n",
        "  browser.get(fulllink)\n",
        "  time.sleep(8)\n",
        "  src = browser.page_source\n",
        "  soup = BeautifulSoup(src, 'lxml')\n",
        "\n",
        "  #scraping name\n",
        "  name = soup.find('li', {'class' :  'inline t-24 t-black t-normal break-words'}).get_text().strip()\n",
        "  names.append(name)\n",
        "\n",
        "  #scraping locations\n",
        "  name_div = soup.find_all('h4', {'class': 'pv-entity__location'})\n",
        "  loc = []\n",
        "  for i in range(len(name_div)):\n",
        "    span = name_div[i].find_all('span')\n",
        "    loc.append(span[1].get_text().strip())\n",
        "  locs.append(loc)\n",
        "\n",
        "  #scraping companies\n",
        "  name_div = soup.find_all('p', {'class': 'pv-entity__secondary-title t-14 t-black t-normal'})\n",
        "  company = []\n",
        "  for i in range(len(name_div)):\n",
        "    company.append(name_div[i].get_text().strip())\n",
        "  companies.append(company)"
      ],
      "execution_count": null,
      "outputs": []
    },
    {
      "cell_type": "markdown",
      "metadata": {
        "id": "r39nLNiTOCd6"
      },
      "source": [
        "Let's create our CSV ✌🏻"
      ]
    },
    {
      "cell_type": "code",
      "metadata": {
        "id": "pU_MBk_7B4xK"
      },
      "source": [
        "df = pd.DataFrame(list(zip(names, companies, locs)), \n",
        "               columns =['name', 'companies', 'locations']) "
      ],
      "execution_count": null,
      "outputs": []
    },
    {
      "cell_type": "code",
      "metadata": {
        "colab": {
          "base_uri": "https://localhost:8080/",
          "height": 421
        },
        "id": "LJuFLGP4OLN0",
        "outputId": "6aab0bac-d104-42d1-e7cf-07bc8937af3c"
      },
      "source": [
        "df"
      ],
      "execution_count": null,
      "outputs": [
        {
          "output_type": "execute_result",
          "data": {
            "text/plain": [
              "                        name  \\\n",
              "0              Ziyad HARROUD   \n",
              "1              Yousra BERDAI   \n",
              "2       Hamza Ezzaoui Rahali   \n",
              "3               Reda Menaoui   \n",
              "4            Yassine RACHIDI   \n",
              "5               Anas Saaoudi   \n",
              "6   Salah-Eddine EL BAGHDADI   \n",
              "7                Aya Ouzzine   \n",
              "8              Leila Er-rami   \n",
              "9              mohamed jarni   \n",
              "10               Reda Djohar   \n",
              "11            Ranya EL HADRI   \n",
              "\n",
              "                                            companies  \\\n",
              "0                                                  []   \n",
              "1   [Airbus\\n        Internship, OCP SA\\n        I...   \n",
              "2                                                  []   \n",
              "3   [Umanis\\n        Internship, Admiral Digital C...   \n",
              "4   [Banque Centrale Populaire - BCP\\n        Inte...   \n",
              "5                                                  []   \n",
              "6   [AKUMEN IA (Valyans & AIOX Labs JV)\\n        I...   \n",
              "7   [Bazard Tobacco Company- BTC\\n        Internship]   \n",
              "8                     [IEEE Student Branch at ENSIAS]   \n",
              "9   [Agence Nationale des Ports (ANP) \\n        In...   \n",
              "10  [Société Générale - Africa Technologies & Serv...   \n",
              "11     [AdelphaTech, CIRES Technologies - Tanger Med]   \n",
              "\n",
              "                                            locations  \n",
              "0                                                  []  \n",
              "1   [Toulouse, Occitanie, France, Préfecture de Ca...  \n",
              "2                                                  []  \n",
              "3                                                  []  \n",
              "4   [Préfecture de Casablanca, Morocco, Préfecture...  \n",
              "5                                                  []  \n",
              "6                                                  []  \n",
              "7                              [Tanger et périphérie]  \n",
              "8                                    [Rabat, Morocco]  \n",
              "9   [El-Jadida, Casablanca-Settat, Maroc, El-Jadid...  \n",
              "10                                       [Casablanca]  \n",
              "11  [Rabat, Rabat-Salé-Kénitra, Maroc, Tangier, Ta...  "
            ],
            "text/html": [
              "<div>\n",
              "<style scoped>\n",
              "    .dataframe tbody tr th:only-of-type {\n",
              "        vertical-align: middle;\n",
              "    }\n",
              "\n",
              "    .dataframe tbody tr th {\n",
              "        vertical-align: top;\n",
              "    }\n",
              "\n",
              "    .dataframe thead th {\n",
              "        text-align: right;\n",
              "    }\n",
              "</style>\n",
              "<table border=\"1\" class=\"dataframe\">\n",
              "  <thead>\n",
              "    <tr style=\"text-align: right;\">\n",
              "      <th></th>\n",
              "      <th>name</th>\n",
              "      <th>companies</th>\n",
              "      <th>locations</th>\n",
              "    </tr>\n",
              "  </thead>\n",
              "  <tbody>\n",
              "    <tr>\n",
              "      <th>0</th>\n",
              "      <td>Ziyad HARROUD</td>\n",
              "      <td>[]</td>\n",
              "      <td>[]</td>\n",
              "    </tr>\n",
              "    <tr>\n",
              "      <th>1</th>\n",
              "      <td>Yousra BERDAI</td>\n",
              "      <td>[Airbus\\n        Internship, OCP SA\\n        I...</td>\n",
              "      <td>[Toulouse, Occitanie, France, Préfecture de Ca...</td>\n",
              "    </tr>\n",
              "    <tr>\n",
              "      <th>2</th>\n",
              "      <td>Hamza Ezzaoui Rahali</td>\n",
              "      <td>[]</td>\n",
              "      <td>[]</td>\n",
              "    </tr>\n",
              "    <tr>\n",
              "      <th>3</th>\n",
              "      <td>Reda Menaoui</td>\n",
              "      <td>[Umanis\\n        Internship, Admiral Digital C...</td>\n",
              "      <td>[]</td>\n",
              "    </tr>\n",
              "    <tr>\n",
              "      <th>4</th>\n",
              "      <td>Yassine RACHIDI</td>\n",
              "      <td>[Banque Centrale Populaire - BCP\\n        Inte...</td>\n",
              "      <td>[Préfecture de Casablanca, Morocco, Préfecture...</td>\n",
              "    </tr>\n",
              "    <tr>\n",
              "      <th>5</th>\n",
              "      <td>Anas Saaoudi</td>\n",
              "      <td>[]</td>\n",
              "      <td>[]</td>\n",
              "    </tr>\n",
              "    <tr>\n",
              "      <th>6</th>\n",
              "      <td>Salah-Eddine EL BAGHDADI</td>\n",
              "      <td>[AKUMEN IA (Valyans &amp; AIOX Labs JV)\\n        I...</td>\n",
              "      <td>[]</td>\n",
              "    </tr>\n",
              "    <tr>\n",
              "      <th>7</th>\n",
              "      <td>Aya Ouzzine</td>\n",
              "      <td>[Bazard Tobacco Company- BTC\\n        Internship]</td>\n",
              "      <td>[Tanger et périphérie]</td>\n",
              "    </tr>\n",
              "    <tr>\n",
              "      <th>8</th>\n",
              "      <td>Leila Er-rami</td>\n",
              "      <td>[IEEE Student Branch at ENSIAS]</td>\n",
              "      <td>[Rabat, Morocco]</td>\n",
              "    </tr>\n",
              "    <tr>\n",
              "      <th>9</th>\n",
              "      <td>mohamed jarni</td>\n",
              "      <td>[Agence Nationale des Ports (ANP) \\n        In...</td>\n",
              "      <td>[El-Jadida, Casablanca-Settat, Maroc, El-Jadid...</td>\n",
              "    </tr>\n",
              "    <tr>\n",
              "      <th>10</th>\n",
              "      <td>Reda Djohar</td>\n",
              "      <td>[Société Générale - Africa Technologies &amp; Serv...</td>\n",
              "      <td>[Casablanca]</td>\n",
              "    </tr>\n",
              "    <tr>\n",
              "      <th>11</th>\n",
              "      <td>Ranya EL HADRI</td>\n",
              "      <td>[AdelphaTech, CIRES Technologies - Tanger Med]</td>\n",
              "      <td>[Rabat, Rabat-Salé-Kénitra, Maroc, Tangier, Ta...</td>\n",
              "    </tr>\n",
              "  </tbody>\n",
              "</table>\n",
              "</div>"
            ]
          },
          "metadata": {
            "tags": []
          },
          "execution_count": 46
        }
      ]
    },
    {
      "cell_type": "code",
      "metadata": {
        "colab": {
          "base_uri": "https://localhost:8080/"
        },
        "id": "5Br2zN2aPtid",
        "outputId": "b15a58e4-8f7e-4011-8502-43e1b8846dcb"
      },
      "source": [
        "df[\"locations\"][1]"
      ],
      "execution_count": null,
      "outputs": [
        {
          "output_type": "execute_result",
          "data": {
            "text/plain": [
              "['Toulouse, Occitanie, France',\n",
              " 'Préfecture de Casablanca, Morocco',\n",
              " 'Préfecture de Casablanca, Morocco']"
            ]
          },
          "metadata": {
            "tags": []
          },
          "execution_count": 50
        }
      ]
    },
    {
      "cell_type": "code",
      "metadata": {
        "colab": {
          "base_uri": "https://localhost:8080/"
        },
        "id": "HF52CimUP4m_",
        "outputId": "12551175-4ed4-458e-add8-003e32c3b568"
      },
      "source": [
        "df[\"locations\"][1][0]"
      ],
      "execution_count": null,
      "outputs": [
        {
          "output_type": "execute_result",
          "data": {
            "text/plain": [
              "'Toulouse, Occitanie, France'"
            ]
          },
          "metadata": {
            "tags": []
          },
          "execution_count": 51
        }
      ]
    },
    {
      "cell_type": "code",
      "metadata": {
        "id": "Cc_UQX9D06y9"
      },
      "source": [
        "df.to_csv('Desktop/data.csv', index=False)"
      ],
      "execution_count": null,
      "outputs": []
    },
    {
      "cell_type": "markdown",
      "metadata": {
        "id": "Q-aPC47-OVvZ"
      },
      "source": [
        "**Made with ♥️ by Moncef Bender.**"
      ]
    }
  ]
}