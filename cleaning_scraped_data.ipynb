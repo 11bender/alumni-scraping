{
  "nbformat": 4,
  "nbformat_minor": 0,
  "metadata": {
    "colab": {
      "name": "cleaning_scraped_data.ipynb",
      "provenance": [],
      "authorship_tag": "ABX9TyMpRPe5emWvwTbmKxsZKMn1",
      "include_colab_link": true
    },
    "kernelspec": {
      "name": "python3",
      "display_name": "Python 3"
    },
    "language_info": {
      "name": "python"
    }
  },
  "cells": [
    {
      "cell_type": "markdown",
      "metadata": {
        "id": "view-in-github",
        "colab_type": "text"
      },
      "source": [
        "<a href=\"https://colab.research.google.com/github/11bender/alumni-scraping/blob/main/cleaning_scraped_data.ipynb\" target=\"_parent\"><img src=\"https://colab.research.google.com/assets/colab-badge.svg\" alt=\"Open In Colab\"/></a>"
      ]
    },
    {
      "cell_type": "code",
      "metadata": {
        "id": "TNesSIfB0WiK"
      },
      "source": [
        "import pandas as pd\n",
        "import numpy as np"
      ],
      "execution_count": null,
      "outputs": []
    },
    {
      "cell_type": "code",
      "metadata": {
        "id": "FcVuSfad0c5k"
      },
      "source": [
        "df = pd.read_csv(\"/Users/moncefbender/Desktop/data.csv\")"
      ],
      "execution_count": null,
      "outputs": []
    },
    {
      "cell_type": "code",
      "metadata": {
        "id": "Nc5wTSXH0knt"
      },
      "source": [
        "df.drop(df[df['locations'] == '[]'].index, inplace = True) "
      ],
      "execution_count": null,
      "outputs": []
    },
    {
      "cell_type": "code",
      "metadata": {
        "colab": {
          "base_uri": "https://localhost:8080/",
          "height": 419
        },
        "id": "UHSlEril0xA0",
        "outputId": "112f7925-0c38-4fb2-801f-a85d0c6cb029"
      },
      "source": [
        "df"
      ],
      "execution_count": null,
      "outputs": [
        {
          "output_type": "execute_result",
          "data": {
            "text/plain": [
              "              Full Name                                          Companies  \\\n",
              "0     Marouane Albairat                ['Google', 'Gartner', 'du', 'Atos']   \n",
              "1        Amine Marghich               ['Oracle', 'IBM', 'ZTE Corporation']   \n",
              "2     Sanae EL MEHDAOUI  ['Université Paris 8 Vincennes - Saint-Denis',...   \n",
              "3     Khaoula BOUKHAYMA  ['IBM', 'Freelance, self-employed', 'GASCO', '...   \n",
              "4      Bouchra EL GZIRI                                    ['IBM', 'SQLI']   \n",
              "...                 ...                                                ...   \n",
              "1066      Loubna Najihi  ['VISEO\\n        Full-time', 'Novedia Group\\n ...   \n",
              "1067        Sarah Wardy  ['Amazon', 'BT', 'Maroc Telecom\\n        Full-...   \n",
              "1068  Manal EL AKROUCHI       ['SAP', 'Nevo-Technologies Morroco', 'SQLI']   \n",
              "1069     Mohammed Sahli  ['ExaWizards Inc.\\n        Permanent', 'アルファヤ\\...   \n",
              "1070      Tarik Mokafih  ['NeurodigitX', 'NodOn®', 'Zenytime', 'mascir'...   \n",
              "\n",
              "                                              locations  \n",
              "0         ['Dubai, United Arab Emirates', 'Dubai, UAE']  \n",
              "1     ['Amsterdam Area, Netherlands', 'Dubai, United...  \n",
              "2     ['Paris Area, France', 'Paris 09, Île-de-Franc...  \n",
              "3     ['Casablanca', 'Abu Dhabi', 'United Arab Emira...  \n",
              "4     ['Préfecture de Casablanca, Morocco', 'Préfect...  \n",
              "...                                                 ...  \n",
              "1066  ['London, United Kingdom', 'London, United Kin...  \n",
              "1067  ['London, United Kingdom', 'London, United Kin...  \n",
              "1068  ['Tokyo, Japan', 'Tokyo, Japan', 'Oujda', 'Ouj...  \n",
              "1069  ['Tokyo, Japan', 'Tokyo, Japan', 'Tokyo, Japan...  \n",
              "1070  ['Shanghai City, China', 'Rabat, Phoenix', 'Ma...  \n",
              "\n",
              "[758 rows x 3 columns]"
            ],
            "text/html": [
              "<div>\n",
              "<style scoped>\n",
              "    .dataframe tbody tr th:only-of-type {\n",
              "        vertical-align: middle;\n",
              "    }\n",
              "\n",
              "    .dataframe tbody tr th {\n",
              "        vertical-align: top;\n",
              "    }\n",
              "\n",
              "    .dataframe thead th {\n",
              "        text-align: right;\n",
              "    }\n",
              "</style>\n",
              "<table border=\"1\" class=\"dataframe\">\n",
              "  <thead>\n",
              "    <tr style=\"text-align: right;\">\n",
              "      <th></th>\n",
              "      <th>Full Name</th>\n",
              "      <th>Companies</th>\n",
              "      <th>locations</th>\n",
              "    </tr>\n",
              "  </thead>\n",
              "  <tbody>\n",
              "    <tr>\n",
              "      <th>0</th>\n",
              "      <td>Marouane Albairat</td>\n",
              "      <td>['Google', 'Gartner', 'du', 'Atos']</td>\n",
              "      <td>['Dubai, United Arab Emirates', 'Dubai, UAE']</td>\n",
              "    </tr>\n",
              "    <tr>\n",
              "      <th>1</th>\n",
              "      <td>Amine Marghich</td>\n",
              "      <td>['Oracle', 'IBM', 'ZTE Corporation']</td>\n",
              "      <td>['Amsterdam Area, Netherlands', 'Dubai, United...</td>\n",
              "    </tr>\n",
              "    <tr>\n",
              "      <th>2</th>\n",
              "      <td>Sanae EL MEHDAOUI</td>\n",
              "      <td>['Université Paris 8 Vincennes - Saint-Denis',...</td>\n",
              "      <td>['Paris Area, France', 'Paris 09, Île-de-Franc...</td>\n",
              "    </tr>\n",
              "    <tr>\n",
              "      <th>3</th>\n",
              "      <td>Khaoula BOUKHAYMA</td>\n",
              "      <td>['IBM', 'Freelance, self-employed', 'GASCO', '...</td>\n",
              "      <td>['Casablanca', 'Abu Dhabi', 'United Arab Emira...</td>\n",
              "    </tr>\n",
              "    <tr>\n",
              "      <th>4</th>\n",
              "      <td>Bouchra EL GZIRI</td>\n",
              "      <td>['IBM', 'SQLI']</td>\n",
              "      <td>['Préfecture de Casablanca, Morocco', 'Préfect...</td>\n",
              "    </tr>\n",
              "    <tr>\n",
              "      <th>...</th>\n",
              "      <td>...</td>\n",
              "      <td>...</td>\n",
              "      <td>...</td>\n",
              "    </tr>\n",
              "    <tr>\n",
              "      <th>1066</th>\n",
              "      <td>Loubna Najihi</td>\n",
              "      <td>['VISEO\\n        Full-time', 'Novedia Group\\n ...</td>\n",
              "      <td>['London, United Kingdom', 'London, United Kin...</td>\n",
              "    </tr>\n",
              "    <tr>\n",
              "      <th>1067</th>\n",
              "      <td>Sarah Wardy</td>\n",
              "      <td>['Amazon', 'BT', 'Maroc Telecom\\n        Full-...</td>\n",
              "      <td>['London, United Kingdom', 'London, United Kin...</td>\n",
              "    </tr>\n",
              "    <tr>\n",
              "      <th>1068</th>\n",
              "      <td>Manal EL AKROUCHI</td>\n",
              "      <td>['SAP', 'Nevo-Technologies Morroco', 'SQLI']</td>\n",
              "      <td>['Tokyo, Japan', 'Tokyo, Japan', 'Oujda', 'Ouj...</td>\n",
              "    </tr>\n",
              "    <tr>\n",
              "      <th>1069</th>\n",
              "      <td>Mohammed Sahli</td>\n",
              "      <td>['ExaWizards Inc.\\n        Permanent', 'アルファヤ\\...</td>\n",
              "      <td>['Tokyo, Japan', 'Tokyo, Japan', 'Tokyo, Japan...</td>\n",
              "    </tr>\n",
              "    <tr>\n",
              "      <th>1070</th>\n",
              "      <td>Tarik Mokafih</td>\n",
              "      <td>['NeurodigitX', 'NodOn®', 'Zenytime', 'mascir'...</td>\n",
              "      <td>['Shanghai City, China', 'Rabat, Phoenix', 'Ma...</td>\n",
              "    </tr>\n",
              "  </tbody>\n",
              "</table>\n",
              "<p>758 rows × 3 columns</p>\n",
              "</div>"
            ]
          },
          "metadata": {
            "tags": []
          },
          "execution_count": 179
        }
      ]
    },
    {
      "cell_type": "code",
      "metadata": {
        "id": "Oj2phovn1w4B"
      },
      "source": [
        "locations = df[\"locations\"]"
      ],
      "execution_count": null,
      "outputs": []
    },
    {
      "cell_type": "code",
      "metadata": {
        "id": "4bGCWDIb8ZZr"
      },
      "source": [
        "locations_splited = locations.str.split(\"',\")"
      ],
      "execution_count": null,
      "outputs": []
    },
    {
      "cell_type": "code",
      "metadata": {
        "id": "b1ebd1joB7TX"
      },
      "source": [
        "locations_splited_np = locations_splited.to_numpy()"
      ],
      "execution_count": null,
      "outputs": []
    },
    {
      "cell_type": "code",
      "metadata": {
        "colab": {
          "base_uri": "https://localhost:8080/"
        },
        "id": "3eUKzDihEIR-",
        "outputId": "5f285c5f-b3c2-4bca-85dc-0d099dc0d05f"
      },
      "source": [
        "locations_splited_np[0][1]"
      ],
      "execution_count": null,
      "outputs": [
        {
          "output_type": "execute_result",
          "data": {
            "text/plain": [
              "\" 'Dubai, UAE']\""
            ]
          },
          "metadata": {
            "tags": []
          },
          "execution_count": 208
        }
      ]
    },
    {
      "cell_type": "code",
      "metadata": {
        "id": "AtE7Z_Z0EPRY"
      },
      "source": [
        "locations_splited_np_flat = list(np.concatenate(locations_splited_np).flat)"
      ],
      "execution_count": null,
      "outputs": []
    },
    {
      "cell_type": "code",
      "metadata": {
        "colab": {
          "base_uri": "https://localhost:8080/"
        },
        "id": "a7ntAhA4EhgS",
        "outputId": "aa186c2a-d7a6-403c-ce4d-27bbaaa18096"
      },
      "source": [
        "locations_splited_np_flat[1]"
      ],
      "execution_count": null,
      "outputs": [
        {
          "output_type": "execute_result",
          "data": {
            "text/plain": [
              "\" 'Dubai, UAE']\""
            ]
          },
          "metadata": {
            "tags": []
          },
          "execution_count": 288
        }
      ]
    },
    {
      "cell_type": "code",
      "metadata": {
        "id": "vOrMK0B_EiDU"
      },
      "source": [
        "import re\n",
        "for i in range (len(locations_splited_np_flat)):\n",
        "  locations_splited_np_flat[i] = re.sub(\"[]'[]+\", '', locations_splited_np_flat[i])"
      ],
      "execution_count": null,
      "outputs": []
    },
    {
      "cell_type": "code",
      "metadata": {
        "id": "SLj-EbIjGf29"
      },
      "source": [
        "locations = pd.DataFrame(locations_splited_np_flat)"
      ],
      "execution_count": null,
      "outputs": []
    },
    {
      "cell_type": "code",
      "metadata": {
        "id": "TCaRrGWbGuAZ"
      },
      "source": [
        "locations[0] = locations[0].str.strip()"
      ],
      "execution_count": null,
      "outputs": []
    },
    {
      "cell_type": "code",
      "metadata": {
        "id": "HY8XKcAjGvBG"
      },
      "source": [
        "locations.to_csv('/locations.csv', header='locations', index=False)"
      ],
      "execution_count": null,
      "outputs": []
    },
    {
      "cell_type": "markdown",
      "metadata": {
        "id": "tJ3lLPPUPi8a"
      },
      "source": [
        "**Made with ♥️ by Moncef Bender.**"
      ]
    }
  ]
}